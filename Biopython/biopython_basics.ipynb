{
 "cells": [
  {
   "cell_type": "code",
   "execution_count": 1,
   "id": "11f27a94-7d63-4a81-8ec7-f9f7eca51bd0",
   "metadata": {},
   "outputs": [],
   "source": [
    "from Bio.Seq import Seq"
   ]
  },
  {
   "cell_type": "code",
   "execution_count": 6,
   "id": "d1a2c6ee-a9cb-41ed-b0da-0be11f686bfe",
   "metadata": {},
   "outputs": [
    {
     "name": "stdout",
     "output_type": "stream",
     "text": [
      "Sequence Length: 13\n",
      "Complement: TACGCATGCAATC\n"
     ]
    }
   ],
   "source": [
    "sequence = Seq(\"ATGCGTACGTTAG\")\n",
    "print(f\"Sequence Length: {len(sequence)}\")\n",
    "print(f\"Complement: {sequence.complement()}\")"
   ]
  }
 ],
 "metadata": {
  "kernelspec": {
   "display_name": "Python 3 (ipykernel)",
   "language": "python",
   "name": "python3"
  },
  "language_info": {
   "codemirror_mode": {
    "name": "ipython",
    "version": 3
   },
   "file_extension": ".py",
   "mimetype": "text/x-python",
   "name": "python",
   "nbconvert_exporter": "python",
   "pygments_lexer": "ipython3",
   "version": "3.13.2"
  }
 },
 "nbformat": 4,
 "nbformat_minor": 5
}
