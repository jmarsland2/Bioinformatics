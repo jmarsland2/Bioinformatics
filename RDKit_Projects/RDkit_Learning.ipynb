{
 "cells": [
  {
   "cell_type": "code",
   "execution_count": 2,
   "id": "c93087dc-6212-41eb-8774-af81d8a20988",
   "metadata": {},
   "outputs": [
    {
     "name": "stdout",
     "output_type": "stream",
     "text": [
      "<rdkit.Chem.rdchem.Mol object at 0x00000187BA0BFD10>\n"
     ]
    }
   ],
   "source": [
    "from rdkit import Chem\n",
    "\n",
    "mol = Chem.MolFromSmiles('CCO')\n",
    "print(mol)"
   ]
  },
  {
   "cell_type": "code",
   "execution_count": 3,
   "id": "ea482fc4-72e8-4dce-8b6d-ce6f285bf405",
   "metadata": {},
   "outputs": [
    {
     "name": "stdout",
     "output_type": "stream",
     "text": [
      "CCO\n"
     ]
    }
   ],
   "source": [
    "print(Chem.MolToSmiles(mol))"
   ]
  },
  {
   "cell_type": "code",
   "execution_count": 5,
   "id": "f43316c8-36b5-4e50-94df-ff5a70dbff78",
   "metadata": {},
   "outputs": [
    {
     "name": "stdout",
     "output_type": "stream",
     "text": [
      "Molecular Weight: 46.069\n"
     ]
    }
   ],
   "source": [
    "from rdkit.Chem import Descriptors\n",
    "\n",
    "mol_weight = Descriptors.MolWt(mol)\n",
    "print(f'Molecular Weight: {mol_weight}')"
   ]
  },
  {
   "cell_type": "code",
   "execution_count": 6,
   "id": "11de2baa-9d3b-470f-814c-4afd13ef640e",
   "metadata": {},
   "outputs": [
    {
     "name": "stdout",
     "output_type": "stream",
     "text": [
      "LogP: -0.0014000000000000123\n"
     ]
    }
   ],
   "source": [
    "logp = Descriptors.MolLogP(mol)\n",
    "print(f'LogP: {logp}')"
   ]
  },
  {
   "cell_type": "code",
   "execution_count": 8,
   "id": "5d56ab6e-29a0-4f43-b205-040349dbf5c8",
   "metadata": {},
   "outputs": [
    {
     "name": "stdout",
     "output_type": "stream",
     "text": [
      "Hydrogen Bond Donors: 1\n",
      "Hydrogen Bond Acceptors: 1\n"
     ]
    }
   ],
   "source": [
    "h_donors = Descriptors.NumHDonors(mol)\n",
    "h_acceptors = Descriptors.NumHAcceptors(mol)\n",
    "\n",
    "print(f'Hydrogen Bond Donors: {h_donors}')\n",
    "print(f'Hydrogen Bond Acceptors: {h_acceptors}')"
   ]
  },
  {
   "cell_type": "markdown",
   "id": "b68e78bb-6ad7-4f12-bdf9-0f7776cafeb7",
   "metadata": {},
   "source": [
    "## Visualizing Molecules"
   ]
  },
  {
   "cell_type": "code",
   "execution_count": 12,
   "id": "f5708872-e521-4da1-977a-7584f6733f88",
   "metadata": {},
   "outputs": [
    {
     "data": {
      "image/jpeg": "[encoded data removed]",
      "image/png": "[encoded data removed]",
      "text/plain": [
       "<PIL.PngImagePlugin.PngImageFile image mode=RGB size=300x300>"
      ]
     },
     "execution_count": 12,
     "metadata": {},
     "output_type": "execute_result"
    }
   ],
   "source": [
    "from rdkit.Chem import Draw\n",
    "\n",
    "Draw.MolToImage(mol)"
   ]
  },
  {
   "cell_type": "code",
   "execution_count": 13,
   "id": "a8e2ffda-f11c-4d0e-94c6-1ab66102a04f",
   "metadata": {},
   "outputs": [],
   "source": [
    "Draw.MolToFile(mol, \"ethanol.png\")"
   ]
  },
  {
   "cell_type": "code",
   "execution_count": 15,
   "id": "ee7ef39f-fd55-4e77-9d3c-02b64616c245",
   "metadata": {},
   "outputs": [
    {
     "name": "stderr",
     "output_type": "stream",
     "text": [
      "[18:53:57] skipping block at line 39097: 'BEGIN ATOM'\n",
      "[18:53:57] skipping block at line 39099: 'BEGIN BOND'\n",
      "[18:53:57] skipping block at line 39933: 'BEGIN ATOM'\n",
      "[18:53:57] skipping block at line 39935: 'BEGIN BOND'\n",
      "[18:53:58] skipping block at line 131132: 'BEGIN ATOM'\n",
      "[18:53:58] skipping block at line 131134: 'BEGIN BOND'\n",
      "[18:53:58] skipping block at line 131166: 'BEGIN ATOM'\n",
      "[18:53:58] skipping block at line 131168: 'BEGIN BOND'\n",
      "[18:53:58] skipping block at line 131200: 'BEGIN ATOM'\n",
      "[18:53:58] skipping block at line 131202: 'BEGIN BOND'\n",
      "[18:53:58] skipping block at line 163415: 'BEGIN ATOM'\n",
      "[18:53:58] skipping block at line 163417: 'BEGIN BOND'\n",
      "[18:53:58] skipping block at line 185993: 'BEGIN ATOM'\n",
      "[18:53:58] skipping block at line 185995: 'BEGIN BOND'\n",
      "[18:53:58] skipping block at line 193374: 'BEGIN ATOM'\n",
      "[18:53:58] skipping block at line 193376: 'BEGIN BOND'\n",
      "[18:53:59] skipping block at line 319919: 'BEGIN ATOM'\n",
      "[18:53:59] skipping block at line 319921: 'BEGIN BOND'\n",
      "[18:53:59] skipping block at line 319953: 'BEGIN ATOM'\n",
      "[18:53:59] skipping block at line 319955: 'BEGIN BOND'\n",
      "[18:53:59] skipping block at line 319987: 'BEGIN ATOM'\n",
      "[18:53:59] skipping block at line 319989: 'BEGIN BOND'\n",
      "[18:53:59] skipping block at line 320121: 'BEGIN ATOM'\n",
      "[18:53:59] skipping block at line 320123: 'BEGIN BOND'\n",
      "[18:53:59] skipping block at line 320155: 'BEGIN ATOM'\n",
      "[18:53:59] skipping block at line 320157: 'BEGIN BOND'\n",
      "[18:53:59] skipping block at line 320252: 'BEGIN ATOM'\n",
      "[18:53:59] skipping block at line 320254: 'BEGIN BOND'\n",
      "[18:53:59] skipping block at line 320286: 'BEGIN ATOM'\n",
      "[18:53:59] skipping block at line 320288: 'BEGIN BOND'\n",
      "[18:53:59] skipping block at line 320320: 'BEGIN ATOM'\n",
      "[18:53:59] skipping block at line 320322: 'BEGIN BOND'\n",
      "[18:53:59] skipping block at line 320354: 'BEGIN ATOM'\n",
      "[18:53:59] skipping block at line 320356: 'BEGIN BOND'\n",
      "[18:53:59] skipping block at line 320514: 'BEGIN ATOM'\n",
      "[18:53:59] skipping block at line 320516: 'BEGIN BOND'\n",
      "[18:53:59] skipping block at line 320716: 'BEGIN ATOM'\n",
      "[18:53:59] skipping block at line 320718: 'BEGIN BOND'\n",
      "[18:53:59] skipping block at line 320750: 'BEGIN ATOM'\n",
      "[18:53:59] skipping block at line 320752: 'BEGIN BOND'\n",
      "[18:53:59] skipping block at line 321076: 'BEGIN ATOM'\n",
      "[18:53:59] skipping block at line 321078: 'BEGIN BOND'\n",
      "[18:53:59] skipping block at line 321110: 'BEGIN ATOM'\n",
      "[18:53:59] skipping block at line 321112: 'BEGIN BOND'\n",
      "[18:53:59] skipping block at line 321144: 'BEGIN ATOM'\n",
      "[18:53:59] skipping block at line 321146: 'BEGIN BOND'\n",
      "[18:53:59] skipping block at line 321178: 'BEGIN ATOM'\n",
      "[18:53:59] skipping block at line 321180: 'BEGIN BOND'\n",
      "[18:53:59] skipping block at line 321212: 'BEGIN ATOM'\n",
      "[18:53:59] skipping block at line 321214: 'BEGIN BOND'\n",
      "[18:53:59] skipping block at line 321246: 'BEGIN ATOM'\n",
      "[18:53:59] skipping block at line 321248: 'BEGIN BOND'\n",
      "[18:53:59] skipping block at line 321326: 'BEGIN ATOM'\n",
      "[18:53:59] skipping block at line 321328: 'BEGIN BOND'\n",
      "[18:53:59] skipping block at line 321360: 'BEGIN ATOM'\n",
      "[18:53:59] skipping block at line 321362: 'BEGIN BOND'\n",
      "[18:53:59] skipping block at line 321394: 'BEGIN ATOM'\n",
      "[18:53:59] skipping block at line 321396: 'BEGIN BOND'\n",
      "[18:53:59] skipping block at line 321428: 'BEGIN ATOM'\n",
      "[18:53:59] skipping block at line 321430: 'BEGIN BOND'\n",
      "[18:53:59] skipping block at line 321462: 'BEGIN ATOM'\n",
      "[18:53:59] skipping block at line 321464: 'BEGIN BOND'\n",
      "[18:53:59] skipping block at line 321546: 'BEGIN ATOM'\n",
      "[18:53:59] skipping block at line 321548: 'BEGIN BOND'\n",
      "[18:53:59] skipping block at line 321702: 'BEGIN ATOM'\n",
      "[18:53:59] skipping block at line 321704: 'BEGIN BOND'\n",
      "[18:53:59] skipping block at line 321736: 'BEGIN ATOM'\n",
      "[18:53:59] skipping block at line 321738: 'BEGIN BOND'\n",
      "[18:53:59] skipping block at line 321820: 'BEGIN ATOM'\n",
      "[18:53:59] skipping block at line 321822: 'BEGIN BOND'\n",
      "[18:53:59] skipping block at line 321962: 'BEGIN ATOM'\n",
      "[18:53:59] skipping block at line 321964: 'BEGIN BOND'\n",
      "[18:53:59] skipping block at line 321996: 'BEGIN ATOM'\n",
      "[18:53:59] skipping block at line 321998: 'BEGIN BOND'\n",
      "[18:53:59] skipping block at line 322087: 'BEGIN ATOM'\n",
      "[18:53:59] skipping block at line 322089: 'BEGIN BOND'\n",
      "[18:53:59] skipping block at line 322274: 'BEGIN ATOM'\n",
      "[18:53:59] skipping block at line 322276: 'BEGIN BOND'\n",
      "[18:53:59] skipping block at line 322308: 'BEGIN ATOM'\n",
      "[18:53:59] skipping block at line 322310: 'BEGIN BOND'\n",
      "[18:53:59] skipping block at line 322342: 'BEGIN ATOM'\n",
      "[18:53:59] skipping block at line 322344: 'BEGIN BOND'\n",
      "[18:53:59] skipping block at line 322376: 'BEGIN ATOM'\n",
      "[18:53:59] skipping block at line 322378: 'BEGIN BOND'\n",
      "[18:53:59] skipping block at line 322466: 'BEGIN ATOM'\n",
      "[18:53:59] skipping block at line 322468: 'BEGIN BOND'\n",
      "[18:53:59] skipping block at line 322500: 'BEGIN ATOM'\n",
      "[18:53:59] skipping block at line 322502: 'BEGIN BOND'\n",
      "[18:53:59] skipping block at line 322534: 'BEGIN ATOM'\n",
      "[18:53:59] skipping block at line 322536: 'BEGIN BOND'\n",
      "[18:53:59] skipping block at line 322677: 'BEGIN ATOM'\n",
      "[18:53:59] skipping block at line 322679: 'BEGIN BOND'\n",
      "[18:53:59] skipping block at line 322757: 'BEGIN ATOM'\n",
      "[18:53:59] skipping block at line 322759: 'BEGIN BOND'\n",
      "[18:53:59] skipping block at line 323021: 'BEGIN ATOM'\n",
      "[18:53:59] skipping block at line 323023: 'BEGIN BOND'\n",
      "[18:53:59] skipping block at line 323055: 'BEGIN ATOM'\n",
      "[18:53:59] skipping block at line 323057: 'BEGIN BOND'\n",
      "[18:53:59] skipping block at line 323154: 'BEGIN ATOM'\n",
      "[18:53:59] skipping block at line 323156: 'BEGIN BOND'\n",
      "[18:53:59] skipping block at line 323188: 'BEGIN ATOM'\n",
      "[18:53:59] skipping block at line 323190: 'BEGIN BOND'\n",
      "[18:53:59] skipping block at line 323222: 'BEGIN ATOM'\n",
      "[18:53:59] skipping block at line 323224: 'BEGIN BOND'\n",
      "[18:53:59] skipping block at line 323256: 'BEGIN ATOM'\n",
      "[18:53:59] skipping block at line 323258: 'BEGIN BOND'\n",
      "[18:53:59] skipping block at line 323290: 'BEGIN ATOM'\n",
      "[18:53:59] skipping block at line 323292: 'BEGIN BOND'\n",
      "[18:53:59] skipping block at line 323372: 'BEGIN ATOM'\n",
      "[18:53:59] skipping block at line 323374: 'BEGIN BOND'\n",
      "[18:53:59] skipping block at line 323466: 'BEGIN ATOM'\n",
      "[18:53:59] skipping block at line 323468: 'BEGIN BOND'\n",
      "[18:53:59] skipping block at line 323555: 'BEGIN ATOM'\n",
      "[18:53:59] skipping block at line 323557: 'BEGIN BOND'\n",
      "[18:53:59] skipping block at line 323816: 'BEGIN ATOM'\n",
      "[18:53:59] skipping block at line 323818: 'BEGIN BOND'\n",
      "[18:53:59] skipping block at line 323906: 'BEGIN ATOM'\n",
      "[18:53:59] skipping block at line 323908: 'BEGIN BOND'\n",
      "[18:53:59] skipping block at line 323999: 'BEGIN ATOM'\n",
      "[18:53:59] skipping block at line 324001: 'BEGIN BOND'\n",
      "[18:53:59] skipping block at line 324094: 'BEGIN ATOM'\n",
      "[18:53:59] skipping block at line 324096: 'BEGIN BOND'\n",
      "[18:53:59] skipping block at line 324180: 'BEGIN ATOM'\n",
      "[18:53:59] skipping block at line 324182: 'BEGIN BOND'\n",
      "[18:53:59] skipping block at line 324586: 'BEGIN ATOM'\n",
      "[18:53:59] skipping block at line 324588: 'BEGIN BOND'\n",
      "[18:53:59] skipping block at line 324742: 'BEGIN ATOM'\n",
      "[18:53:59] skipping block at line 324744: 'BEGIN BOND'\n",
      "[18:53:59] skipping block at line 324826: 'BEGIN ATOM'\n",
      "[18:53:59] skipping block at line 324828: 'BEGIN BOND'\n",
      "[18:53:59] skipping block at line 324860: 'BEGIN ATOM'\n",
      "[18:53:59] skipping block at line 324862: 'BEGIN BOND'\n",
      "[18:53:59] skipping block at line 325119: 'BEGIN ATOM'\n",
      "[18:53:59] skipping block at line 325121: 'BEGIN BOND'\n",
      "[18:53:59] skipping block at line 325153: 'BEGIN ATOM'\n",
      "[18:53:59] skipping block at line 325155: 'BEGIN BOND'\n",
      "[18:53:59] skipping block at line 325376: 'BEGIN ATOM'\n",
      "[18:53:59] skipping block at line 325378: 'BEGIN BOND'\n",
      "[18:53:59] skipping block at line 325410: 'BEGIN ATOM'\n",
      "[18:53:59] skipping block at line 325412: 'BEGIN BOND'\n",
      "[18:53:59] Explicit valence for atom # 0 Si, 5, is greater than permitted\n",
      "[18:53:59] ERROR: Could not sanitize molecule ending on line 336700\n",
      "[18:53:59] ERROR: Explicit valence for atom # 0 Si, 5, is greater than permitted\n"
     ]
    },
    {
     "name": "stdout",
     "output_type": "stream",
     "text": [
      "5946\n"
     ]
    },
    {
     "name": "stderr",
     "output_type": "stream",
     "text": [
      "[18:53:59] skipping block at line 352473: 'BEGIN ATOM'\n",
      "[18:53:59] skipping block at line 352475: 'BEGIN BOND'\n"
     ]
    }
   ],
   "source": [
    "from rdkit.Chem import SDMolSupplier\n",
    "\n",
    "supplier = SDMolSupplier(\"Discovery_Chemicals.sdf\")\n",
    "mols = [mol for mol in supplier if mol is not None]\n",
    "\n",
    "print(len(mols))"
   ]
  },
  {
   "cell_type": "code",
   "execution_count": 21,
   "id": "88bf4677-40ae-4187-89e8-1eb6199c200b",
   "metadata": {},
   "outputs": [
    {
     "data": {
      "image/jpeg": "[encoded data removed]",
      "image/png": "[encoded data removed]",
      "text/plain": [
       "<PIL.PngImagePlugin.PngImageFile image mode=RGB size=300x300>"
      ]
     },
     "execution_count": 21,
     "metadata": {},
     "output_type": "execute_result"
    }
   ],
   "source": [
    "Draw.MolToImage(mols[4])"
   ]
  },
  {
   "cell_type": "code",
   "execution_count": 22,
   "id": "ca53f322-8298-4fc5-972a-3d1b0e8a9a2d",
   "metadata": {},
   "outputs": [],
   "source": [
    "import pandas as pd\n",
    "\n",
    "data = []\n",
    "for mol in mols:\n",
    "    smiles = Chem.MolToSmiles(mol)\n",
    "    mol_weight = Descriptors.MolWt(mol)\n",
    "    logp = Descriptors.MolLogP(mol)\n",
    "\n",
    "    data.append([smiles, mol_weight, logp])\n",
    "\n",
    "df = pd.DataFrame(data, columns = [\"SMILES\",\n",
    "                                   \"Molecular Weight\",\n",
    "                                   \"LogP\"])\n",
    "df.to_csv(\"molecular_data.csv\", index = False)"
   ]
  },
  {
   "cell_type": "code",
   "execution_count": 26,
   "id": "8bad3166-2174-434f-b37a-89b963e610a2",
   "metadata": {},
   "outputs": [],
   "source": [
    "# Molecule Analyzer\n",
    "from rdkit.Chem import Descriptors\n",
    "def mol_analysis(mol):\n",
    "    '''\n",
    "    str (SMILES) -> molecular weight, \n",
    "                    LogP\n",
    "                    H bond donors\n",
    "                    H bond acceptors\n",
    "    '''\n",
    "    rdmol = Chem.MolFromSmiles(mol)\n",
    "    if mol:\n",
    "        return {\"mol_weight\": Descriptors.MolWt(rdmol),\n",
    "                \"LogP\": Descriptors.MolLogP(rdmol),\n",
    "                \"h_donors\": Descriptors.NumHDonors(rdmol),\n",
    "                \"h_acceptors\": Descriptors.NumHAcceptors(rdmol)\n",
    "        }\n",
    "    else:\n",
    "        return \"Invalid SMILES\""
   ]
  },
  {
   "cell_type": "code",
   "execution_count": 28,
   "id": "7d7f3328-26a4-4b90-bebc-0fa0b95b1ee3",
   "metadata": {},
   "outputs": [
    {
     "name": "stdout",
     "output_type": "stream",
     "text": [
      "{'mol_weight': 46.069, 'LogP': -0.0014000000000000123, 'h_donors': 1, 'h_acceptors': 1}\n",
      "{'mol_weight': 58.123999999999995, 'LogP': 1.8064, 'h_donors': 0, 'h_acceptors': 0}\n",
      "{'mol_weight': 78.11399999999999, 'LogP': 1.6866, 'h_donors': 0, 'h_acceptors': 0}\n"
     ]
    }
   ],
   "source": [
    "print(mol_analysis(\"CCO\"))  # Ethanol\n",
    "print(mol_analysis(\"CCCC\"))  # Butane\n",
    "print(mol_analysis(\"C1=CC=CC=C1\"))  # Benzene"
   ]
  }
 ],
 "metadata": {
  "kernelspec": {
   "display_name": "Python 3 (ipykernel)",
   "language": "python",
   "name": "python3"
  },
  "language_info": {
   "codemirror_mode": {
    "name": "ipython",
    "version": 3
   },
   "file_extension": ".py",
   "mimetype": "text/x-python",
   "name": "python",
   "nbconvert_exporter": "python",
   "pygments_lexer": "ipython3",
   "version": "3.13.2"
  }
 },
 "nbformat": 4,
 "nbformat_minor": 5
}
